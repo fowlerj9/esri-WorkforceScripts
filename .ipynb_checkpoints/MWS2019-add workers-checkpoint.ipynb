{
 "cells": [
  {
   "cell_type": "markdown",
   "metadata": {},
   "source": [
    "# add all users in an AGOL org to Workforce\n",
    "\n"
   ]
  },
  {
   "cell_type": "code",
   "execution_count": null,
   "metadata": {},
   "outputs": [],
   "source": [
    "import pandas as pd\n",
    "import arcgis\n",
    "from arcgis.gis import GIS\n",
    "from arcgis.apps import workforce\n",
    "pd.options.display.max_columns = None\n",
    "\n",
    "gis = GIS(\"https://arcgis.com\", \"jfowler_sewill\")\n",
    "project = workforce.Project(gis.content.search(\"type:'Workforce Project' Workforce SEUC 2019 Mobile Workshop\")[0])\n"
   ]
  },
  {
   "cell_type": "markdown",
   "metadata": {},
   "source": [
    "### Create Assignments and Assign To Worker\n"
   ]
  },
  {
   "cell_type": "code",
   "execution_count": null,
   "metadata": {},
   "outputs": [],
   "source": [
    "workforceWorkers = project.workers.search(\"name='Jay Fowler'\")\n",
    "\n",
    "\n",
    "people = gis.users.search()\n",
    "for i in people:\n",
    "    #print(i.username)\n",
    "    workforceWorkers = project.workers.search(\"name='\"+i.fullName+\"'\")\n",
    "    if workforceWorkers:\n",
    "        print(\"worker exists: \"+i.fullName)\n",
    "    else:\n",
    "        print(\"adding worker: \"+i.fullName)\n",
    "        project.workers.add(name=i.fullName, status='working',user_id=i.username)\n",
    "\n",
    "\n"
   ]
  },
  {
   "cell_type": "code",
   "execution_count": null,
   "metadata": {},
   "outputs": [],
   "source": []
  },
  {
   "cell_type": "code",
   "execution_count": null,
   "metadata": {},
   "outputs": [],
   "source": []
  }
 ],
 "metadata": {
  "kernelspec": {
   "display_name": "Python 3",
   "language": "python",
   "name": "python3"
  },
  "language_info": {
   "codemirror_mode": {
    "name": "ipython",
    "version": 3
   },
   "file_extension": ".py",
   "mimetype": "text/x-python",
   "name": "python",
   "nbconvert_exporter": "python",
   "pygments_lexer": "ipython3",
   "version": "3.6.5"
  }
 },
 "nbformat": 4,
 "nbformat_minor": 2
}
