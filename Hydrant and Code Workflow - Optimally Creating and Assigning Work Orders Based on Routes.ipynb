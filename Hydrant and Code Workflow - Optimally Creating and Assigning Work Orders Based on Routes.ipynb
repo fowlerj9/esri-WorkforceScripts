{
 "cells": [
  {
   "cell_type": "markdown",
   "metadata": {},
   "source": [
    "# Optimally Creating and Assigning Work Orders Based on Routes\n",
    "\n",
    "A pretty common task for organizations is optimally distributing work orders. Suppose our organization needs to perform restaurant/brewery inspections in the Greater Portland, Maine area. Let's assume that there are around 25 breweries that need to be inspected and that there are 5 workers that are available to do the inspections. As the supervisor of these workers I'm going to develop a Python Script (well, Jupyter Notebook in this case) that will optimally create distinct routes for my workers, create assignments at the hydrant locations, and then assign the assignment to the correct worker."
   ]
  },
  {
   "cell_type": "markdown",
   "metadata": {},
   "source": [
    "## Scenario 1: Creating and Assigning Assignments From Planned Routes\n",
    "In this scenario we are going to generate one route per worker. Each route will have up to 5 breweries (stored in an existing Feature Layer) that must be visisted and inspected. For each of the genenerated routes, we'll see which breweries need to be inspected and create assignments for them. We'll also assign the assignments to the worker that will be driving that route."
   ]
  },
  {
   "cell_type": "markdown",
   "metadata": {},
   "source": [
    "### Connecting to the Organization and Workforce project"
   ]
  },
  {
   "cell_type": "markdown",
   "metadata": {},
   "source": [
    "First let's connect to our GIS and fetch the Brewery Inspection Workforce Project."
   ]
  },
  {
   "cell_type": "code",
   "execution_count": null,
   "metadata": {},
   "outputs": [],
   "source": [
    "import pandas as pd\n",
    "import arcgis\n",
    "from arcgis.gis import GIS\n",
    "from arcgis.apps import workforce\n",
    "pd.options.display.max_columns = None\n",
    "\n",
    "gis = GIS(\"https://arcgis.com\", \"jfowler_ourcityc\")\n",
    "project = workforce.Project(gis.content.search(\"type:'Workforce Project' Workforce - Hydrant and Code Workflow\")[0])"
   ]
  },
  {
   "cell_type": "markdown",
   "metadata": {},
   "source": [
    "### Viewing the breweries that need to be inspected"
   ]
  },
  {
   "cell_type": "markdown",
   "metadata": {},
   "source": [
    "Now let's fetch the Breweries Feature Layer that our organization maintains."
   ]
  },
  {
   "cell_type": "code",
   "execution_count": null,
   "metadata": {
    "scrolled": true
   },
   "outputs": [],
   "source": [
    "breweries_item = gis.content.search(\"type:'Feature Service' owner:jfowler_ourcityc Todays Assignments Hydrant and Code\")[0]\n",
    "breweries_item"
   ]
  },
  {
   "cell_type": "markdown",
   "metadata": {},
   "source": [
    "Let's query to find all of the breweries in the layer. You can see some of the detailed information in the dataframe below."
   ]
  },
  {
   "cell_type": "code",
   "execution_count": null,
   "metadata": {},
   "outputs": [],
   "source": [
    "breweries_layer = breweries_item.layers[0]\n",
    "breweries_filter = '1=1'\n",
    "breweries_df = breweries_layer.query(where=breweries_filter,out_fields=\"*\", as_df=True)\n",
    "breweries_df"
   ]
  },
  {
   "cell_type": "markdown",
   "metadata": {},
   "source": [
    "### Creating optimal routes for each worker"
   ]
  },
  {
   "cell_type": "markdown",
   "metadata": {},
   "source": [
    "Now that we know what we're working with, let's use the [Plan Routes](https://doc.arcgis.com/en/arcgis-online/analyze/plan-routes.htm) tool to generate the most optimal routes for each of the workers. First we need to define where the workers will start their routes. Each worker will begin from the main office located at 100 Commercial Street, Portland Maine. We'll use the [geocoding module](https://esri.github.io/arcgis-python-api/apidoc/html/arcgis.geocoding.html#geocode) to get an exact location for this address."
   ]
  },
  {
   "cell_type": "code",
   "execution_count": null,
   "metadata": {},
   "outputs": [],
   "source": [
    "from arcgis.geocoding import Geocoder, geocode\n",
    "geocoder_url = 'https://geocode.arcgis.com/arcgis/rest/services/World/GeocodeServer'\n",
    "esrinl_geocoder = Geocoder(geocoder_url, gis)\n",
    "\n",
    "\n",
    "start_location = geocode(\"1 E Edenton St, Raleigh, NC 27601\", out_sr={\"wkid\": 102100},geocoder=esrinl_geocoder)[0][\"location\"]\n",
    "start_location\n",
    "\n",
    "\n"
   ]
  },
  {
   "cell_type": "markdown",
   "metadata": {},
   "source": [
    "Next, we need to convert this location into an in-memory feature layer that we can submit to the Plan Routes tools. First, we'll add the spatial reference to the location; this will help us later on when we need to create a feature collection."
   ]
  },
  {
   "cell_type": "code",
   "execution_count": null,
   "metadata": {},
   "outputs": [],
   "source": [
    "start_location[\"spatialReference\"] = {\"wkid\": 102100}"
   ]
  },
  {
   "cell_type": "markdown",
   "metadata": {},
   "source": [
    "Then we'll create a [Feature](https://esri.github.io/arcgis-python-api/apidoc/html/arcgis.features.toc.html#feature) from this location and supply a \"Name\" field."
   ]
  },
  {
   "cell_type": "code",
   "execution_count": null,
   "metadata": {},
   "outputs": [],
   "source": [
    "feature = arcgis.features.Feature(\n",
    "    attributes={\n",
    "        \"ObjectID\": 1,\n",
    "        \"Name\": \"Office\"\n",
    "    },\n",
    "    geometry=start_location\n",
    ")"
   ]
  },
  {
   "cell_type": "markdown",
   "metadata": {},
   "source": [
    "Next, we'll create a [Feature Set](https://esri.github.io/arcgis-python-api/apidoc/html/arcgis.features.toc.html#featureset) from the feature. Then we'll create a [Feature Collection](https://esri.github.io/arcgis-python-api/apidoc/html/arcgis.features.toc.html#featurecollection) from the Feature Set. Finally, we'll format the layer so that it conforms to the expected input format defined [here](https://doc.arcgis.com/en/arcgis-online/analyze/plan-routes.htm)."
   ]
  },
  {
   "cell_type": "code",
   "execution_count": null,
   "metadata": {},
   "outputs": [],
   "source": [
    "feature_set = arcgis.features.FeatureSet([feature])\n",
    "feature_collection = arcgis.features.FeatureCollection.from_featureset(feature_set)\n",
    "start_layer = {\"layerDefinition\": feature_collection.properties[\"layers\"][0][\"layerDefinition\"], \"featureSet\": feature_set.value}"
   ]
  },
  {
   "cell_type": "markdown",
   "metadata": {},
   "source": [
    "Then we'll run the [Plan Routes](https://esri.github.io/arcgis-python-api/apidoc/html/arcgis.features.analysis.html#plan-routes) tool using the breweries layer as list of stops to route to. We'll set the number of routes equal to the number of workers. We'll also set the start time and start location as well as few other parameters."
   ]
  },
  {
   "cell_type": "code",
   "execution_count": null,
   "metadata": {},
   "outputs": [],
   "source": [
    "from datetime import datetime\n",
    "workers = project.workers.search()\n",
    "breweries_layer.filter = breweries_filter\n",
    "results = arcgis.features.analysis.plan_routes(breweries_layer, # Feature Layer of Stops\n",
    "                                    len(workers),               # Number of routes to generate\n",
    "                                    15,                          # Maximum stops per route\n",
    "                                    datetime.now(),             # Start time of route\n",
    "                                    start_layer,                # The dictionary we created to represent the start location\n",
    "                                    stop_service_time=15,       # How much time in minutes to spend at each stop\n",
    "                                    max_route_time=480,         # The maximum time for the worker to complete the route\n",
    "                                    )\n",
    "results"
   ]
  },
  {
   "cell_type": "markdown",
   "metadata": {},
   "source": [
    "As shown above, the output of the Plan Routes tool is a dictionary of 3 Feature Collections. One for the generated routes, one for the stops that were assigned to a route, and one for the stops that were not assigned a route. Let's see what information is provided in a route."
   ]
  },
  {
   "cell_type": "code",
   "execution_count": null,
   "metadata": {},
   "outputs": [],
   "source": [
    "routes = results['routes_layer'].query().sdf\n",
    "routes"
   ]
  },
  {
   "cell_type": "markdown",
   "metadata": {},
   "source": [
    "You can see that each route has a name, total time, and total distance among other things. Let's see what information is provided in an assigned stop."
   ]
  },
  {
   "cell_type": "code",
   "execution_count": null,
   "metadata": {
    "scrolled": true
   },
   "outputs": [],
   "source": [
    "stops = results['assigned_stops_layer'].query().sdf\n",
    "stops"
   ]
  },
  {
   "cell_type": "markdown",
   "metadata": {},
   "source": [
    "You can see each row in the above table contains the attributes of each Brewery along with information about which route it is on. You'll also notice that there are several additional stops not related to a brewery. These are the starting and ending locations of each route."
   ]
  },
  {
   "cell_type": "markdown",
   "metadata": {},
   "source": [
    "### Create Assignment and Assign To Worker\n",
    "For each route that was generated we will select a random worker to complete that route. Then we'll find the breweries that were assigned to that route and create an Inspection Assignment for each one. Notice that when the assignment is created we are also assigning it to a worker.\n",
    "\n",
    "An important thing to note is that we are setting the due date of the assignment to the departure date of the stop. This means that a mobile worker will be able to sort their \"To Do\" list by due date and see the assignments in the correct order (according to the route)."
   ]
  },
  {
   "cell_type": "code",
   "execution_count": null,
   "metadata": {},
   "outputs": [],
   "source": [
    "import random\n",
    "\n",
    "assignments_to_add = []\n",
    "for _, row in routes.iterrows():\n",
    "    worker = random.choice(workers)\n",
    "    workers.remove(worker)\n",
    "    route_stops = stops.loc[(stops['RouteName'] == row[\"RouteName\"]) & stops['GlobalID'].notnull()]\n",
    "    for _, stop in route_stops.iterrows():\n",
    "        assignments_to_add.append(workforce.Assignment(\n",
    "            project,\n",
    "            assignment_type=\"Hydrant Inspection\",\n",
    "            location=stop[\"FACILITYID\"],\n",
    "            status=\"assigned\",\n",
    "            worker=worker,\n",
    "            assigned_date=datetime.now(),\n",
    "            due_date=stop[\"DepartTimeUTC\"],\n",
    "            geometry=stop[\"SHAPE\"]\n",
    "        ))\n",
    "assignments = project.assignments.batch_add(assignments_to_add)"
   ]
  },
  {
   "cell_type": "markdown",
   "metadata": {},
   "source": [
    "Let's see what this looks like in a map where the color of the assignment and route corresponds to the assigned worker. You can see that, in general, the colors are grouped together which is what we would expect. For example, the purple assignments are all placed on route that travels from Portland to Brunswick."
   ]
  },
  {
   "cell_type": "markdown",
   "metadata": {},
   "source": [
    "![image](img/RoutesAssigned.png)"
   ]
  },
  {
   "cell_type": "markdown",
   "metadata": {},
   "source": [
    "## Summary\n",
    "We've demonstrated how work orders can be created and assigned on a per-route basis by using the Plan Routes tool. We've also shown how existing assignments can be assigned on a per-route basis. Workflows such as these can significantly improve the overall output by your workers by optimally assigning the work across time, space, and resources."
   ]
  }
 ],
 "metadata": {
  "kernelspec": {
   "display_name": "Python 3",
   "language": "python",
   "name": "python3"
  },
  "language_info": {
   "codemirror_mode": {
    "name": "ipython",
    "version": 3
   },
   "file_extension": ".py",
   "mimetype": "text/x-python",
   "name": "python",
   "nbconvert_exporter": "python",
   "pygments_lexer": "ipython3",
   "version": "3.6.5"
  }
 },
 "nbformat": 4,
 "nbformat_minor": 2
}
