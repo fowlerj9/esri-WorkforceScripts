{
 "cells": [
  {
   "cell_type": "markdown",
   "metadata": {},
   "source": [
    "# Create assigments from a feature layer for each workforce worker\n",
    "\n",
    "iterate through each worker and give them as many assigments as points that exist in a feature layer by type"
   ]
  },
  {
   "cell_type": "markdown",
   "metadata": {},
   "source": [
    "### Connecting to the Organization and Workforce project"
   ]
  },
  {
   "cell_type": "markdown",
   "metadata": {},
   "source": [
    "First let's connect to our GIS and a Workforce Project."
   ]
  },
  {
   "cell_type": "code",
   "execution_count": 41,
   "metadata": {},
   "outputs": [
    {
     "name": "stdout",
     "output_type": "stream",
     "text": [
      "Enter password: ········\n"
     ]
    }
   ],
   "source": [
    "import pandas as pd\n",
    "import arcgis\n",
    "from arcgis.gis import GIS\n",
    "from arcgis.apps import workforce\n",
    "pd.options.display.max_columns = None\n",
    "\n",
    "gis = GIS(\"https://arcgis.com\", \"jfowler_sewill\")\n",
    "project = workforce.Project(gis.content.search(\"type:'Workforce Project' Workforce SEUC 2019 Mobile Workshop\")[0])"
   ]
  },
  {
   "cell_type": "markdown",
   "metadata": {},
   "source": [
    "### Viewing the collection feature layer"
   ]
  },
  {
   "cell_type": "code",
   "execution_count": 42,
   "metadata": {
    "scrolled": true
   },
   "outputs": [
    {
     "data": {
      "text/html": [
       "<div class=\"item_container\" style=\"height: auto; overflow: hidden; border: 1px solid #cfcfcf; border-radius: 2px; background: #f6fafa; line-height: 1.21429em; padding: 10px;\">\n",
       "                    <div class=\"item_left\" style=\"width: 210px; float: left;\">\n",
       "                       <a href='https://mws.maps.arcgis.com/home/item.html?id=9ab1e63dbea6427387c3c1cb8992dddb' target='_blank'>\n",
       "                        <img src='data:image/png;base64,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' width='200' height='133' class=\"itemThumbnail\">\n",
       "                       </a>\n",
       "                    </div>\n",
       "\n",
       "                    <div class=\"item_right\"     style=\"float: none; width: auto; overflow: hidden;\">\n",
       "                        <a href='https://mws.maps.arcgis.com/home/item.html?id=9ab1e63dbea6427387c3c1cb8992dddb' target='_blank'><b>Collection Layer</b>\n",
       "                        </a>\n",
       "                        <br/><img src='https://mws.maps.arcgis.com/home/js/jsapi/esri/css/images/item_type_icons/featureshosted16.png' style=\"vertical-align:middle;\">Feature Layer Collection by jfowler_sewill\n",
       "                        <br/>Last Modified: April 29, 2019\n",
       "                        <br/>0 comments, 1 views\n",
       "                    </div>\n",
       "                </div>\n",
       "                "
      ],
      "text/plain": [
       "<Item title:\"Collection Layer\" type:Feature Layer Collection owner:jfowler_sewill>"
      ]
     },
     "execution_count": 42,
     "metadata": {},
     "output_type": "execute_result"
    }
   ],
   "source": [
    "breweries_item = gis.content.search(\"type:'Feature Service' owner:jfowler_sewill Collection Layer\")[0]\n",
    "breweries_item"
   ]
  },
  {
   "cell_type": "markdown",
   "metadata": {},
   "source": [
    "Let's query to find all of the points in the layer. You can see some of the detailed information in the dataframe below."
   ]
  },
  {
   "cell_type": "code",
   "execution_count": 43,
   "metadata": {},
   "outputs": [
    {
     "data": {
      "text/html": [
       "<div>\n",
       "<style scoped>\n",
       "    .dataframe tbody tr th:only-of-type {\n",
       "        vertical-align: middle;\n",
       "    }\n",
       "\n",
       "    .dataframe tbody tr th {\n",
       "        vertical-align: top;\n",
       "    }\n",
       "\n",
       "    .dataframe thead th {\n",
       "        text-align: right;\n",
       "    }\n",
       "</style>\n",
       "<table border=\"1\" class=\"dataframe\">\n",
       "  <thead>\n",
       "    <tr style=\"text-align: right;\">\n",
       "      <th></th>\n",
       "      <th>CollectionType</th>\n",
       "      <th>CreationDate</th>\n",
       "      <th>Creator</th>\n",
       "      <th>EditDate</th>\n",
       "      <th>Editor</th>\n",
       "      <th>GlobalID</th>\n",
       "      <th>OBJECTID</th>\n",
       "      <th>SHAPE</th>\n",
       "    </tr>\n",
       "  </thead>\n",
       "  <tbody>\n",
       "    <tr>\n",
       "      <th>0</th>\n",
       "      <td>Use Collector</td>\n",
       "      <td>2019-04-29 15:49:04.758</td>\n",
       "      <td>jfowler_sewill</td>\n",
       "      <td>2019-04-29 15:49:09.665</td>\n",
       "      <td>jfowler_sewill</td>\n",
       "      <td>6863c308-21bc-4b7a-b78d-8f6645f76c6b</td>\n",
       "      <td>1</td>\n",
       "      <td>{\"x\": -8912102.882402636, \"y\": 3086736.8100445...</td>\n",
       "    </tr>\n",
       "    <tr>\n",
       "      <th>1</th>\n",
       "      <td>Use Survey123</td>\n",
       "      <td>2019-04-29 15:49:15.019</td>\n",
       "      <td>jfowler_sewill</td>\n",
       "      <td>2019-04-29 15:49:18.006</td>\n",
       "      <td>jfowler_sewill</td>\n",
       "      <td>fc58eb18-0d3e-4b81-973b-cdbd3d771ee2</td>\n",
       "      <td>2</td>\n",
       "      <td>{\"x\": -8912074.51709918, \"y\": 3086700.98018756...</td>\n",
       "    </tr>\n",
       "  </tbody>\n",
       "</table>\n",
       "</div>"
      ],
      "text/plain": [
       "  CollectionType            CreationDate         Creator  \\\n",
       "0  Use Collector 2019-04-29 15:49:04.758  jfowler_sewill   \n",
       "1  Use Survey123 2019-04-29 15:49:15.019  jfowler_sewill   \n",
       "\n",
       "                 EditDate          Editor  \\\n",
       "0 2019-04-29 15:49:09.665  jfowler_sewill   \n",
       "1 2019-04-29 15:49:18.006  jfowler_sewill   \n",
       "\n",
       "                               GlobalID  OBJECTID  \\\n",
       "0  6863c308-21bc-4b7a-b78d-8f6645f76c6b         1   \n",
       "1  fc58eb18-0d3e-4b81-973b-cdbd3d771ee2         2   \n",
       "\n",
       "                                               SHAPE  \n",
       "0  {\"x\": -8912102.882402636, \"y\": 3086736.8100445...  \n",
       "1  {\"x\": -8912074.51709918, \"y\": 3086700.98018756...  "
      ]
     },
     "execution_count": 43,
     "metadata": {},
     "output_type": "execute_result"
    }
   ],
   "source": [
    "breweries_layer = breweries_item.layers[0]\n",
    "breweries_filter = '1=1'\n",
    "breweries_df = breweries_layer.query(where=breweries_filter,out_fields=\"*\", as_df=True)\n",
    "breweries_df"
   ]
  },
  {
   "cell_type": "markdown",
   "metadata": {},
   "source": [
    "### Create Assignments and Assign To Worker\n"
   ]
  },
  {
   "cell_type": "code",
   "execution_count": 44,
   "metadata": {},
   "outputs": [],
   "source": [
    "import random\n",
    "from datetime import datetime, timedelta\n",
    "\n",
    "nine_hours_from_now = datetime.now() + timedelta(hours=9)\n",
    "workers = project.workers.search()\n",
    "stops = breweries_layer.query().sdf\n",
    "\n",
    "\n",
    "#print(stops)\n",
    "assignments_to_add = []\n",
    "for i in workers: \n",
    "    worker = i\n",
    "    #route_stops = stops.loc[(stops['RouteName'] == row[\"RouteName\"]) & stops['GlobalID'].notnull()]\n",
    "    for _, stop in stops.iterrows():\n",
    "        assignments_to_add.append(workforce.Assignment(\n",
    "            project,\n",
    "            assignment_type=stop[\"CollectionType\"],\n",
    "            location=\"650 Okeechobee Blvd, West Palm Beach, FL 33401\",\n",
    "            status=\"assigned\",\n",
    "            worker=worker,\n",
    "            assigned_date=datetime.now(),\n",
    "            due_date=nine_hours_from_now,\n",
    "            priority=\"critical\",\n",
    "            geometry=stop[\"SHAPE\"]\n",
    "        ))\n",
    "assignments = project.assignments.batch_add(assignments_to_add)"
   ]
  },
  {
   "cell_type": "code",
   "execution_count": null,
   "metadata": {},
   "outputs": [],
   "source": []
  }
 ],
 "metadata": {
  "kernelspec": {
   "display_name": "Python 3",
   "language": "python",
   "name": "python3"
  },
  "language_info": {
   "codemirror_mode": {
    "name": "ipython",
    "version": 3
   },
   "file_extension": ".py",
   "mimetype": "text/x-python",
   "name": "python",
   "nbconvert_exporter": "python",
   "pygments_lexer": "ipython3",
   "version": "3.6.5"
  }
 },
 "nbformat": 4,
 "nbformat_minor": 2
}
